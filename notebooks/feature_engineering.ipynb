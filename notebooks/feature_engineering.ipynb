{
 "cells": [
  {
   "cell_type": "code",
   "execution_count": 1,
   "metadata": {},
   "outputs": [],
   "source": [
    "import pandas as pd"
   ]
  },
  {
   "cell_type": "code",
   "execution_count": 9,
   "metadata": {},
   "outputs": [],
   "source": [
    "df = pd.read_csv('../data/processed/merged_dataset_cleaned.csv', sep = \";\", index_col = 'utc_timestamp', parse_dates = True)"
   ]
  },
  {
   "cell_type": "code",
   "execution_count": 13,
   "metadata": {},
   "outputs": [],
   "source": [
    "df = df.rename(columns={\n",
    "    \"DE_load_actual_entsoe_transparency\": \"actual_load\",\n",
    "    \"DE_solar_capacity\": \"solar_capacity\",\n",
    "    \"DE_solar_generation_actual\": \"solar_generation\",\n",
    "    \"DE_wind_capacity\": \"wind_capacity\",\n",
    "    \"DE_wind_generation_actual\": \"wind_generation\",\n",
    "    \"DE_wind_offshore_capacity\": \"wind_offshore_capacity\",\n",
    "    \"DE_wind_offshore_generation_actual\": \"wind_offshore_generation\",\n",
    "    \"DE_wind_onshore_capacity\": \"wind_onshore_capacity\",\n",
    "    \"DE_wind_onshore_generation_actual\": \"wind_onshore_generation\",\n",
    "    \"DE_temperature\": \"temperature\"\n",
    "})\n",
    "\n",
    "df = df[[\n",
    "    \"actual_load\", \"solar_capacity\", \"solar_generation\", \"wind_capacity\", \"wind_generation\",\n",
    "    \"wind_offshore_capacity\", \"wind_offshore_generation\", \"wind_onshore_capacity\", \"wind_onshore_generation\",\n",
    "    \"temperature\", \"hour\", \"is_daylight\", \"month\"\n",
    "]]\n",
    "\n",
    "df[\"year\"] = df.index.year\n",
    "df[\"weekday\"] = df.index.weekday\n",
    "df[\"weekend_flag\"] = df[\"weekday\"].apply(lambda x: 1 if x >= 5 else 0)"
   ]
  },
  {
   "cell_type": "code",
   "execution_count": 27,
   "metadata": {},
   "outputs": [],
   "source": [
    "import holidays\n",
    "\n",
    "# Fix: Convert timezone-aware index to naive before matching with holidays\n",
    "df[\"holiday_flag\"] = df.index.tz_convert(None).normalize().isin(de_holidays).astype(int)"
   ]
  },
  {
   "cell_type": "code",
   "execution_count": 30,
   "metadata": {},
   "outputs": [
    {
     "name": "stdout",
     "output_type": "stream",
     "text": [
      "utc_timestamp\n",
      "2019-10-03 00:00:00+00:00    1\n",
      "2019-10-03 00:15:00+00:00    1\n",
      "2019-10-03 00:30:00+00:00    1\n",
      "2019-10-03 00:45:00+00:00    1\n",
      "2019-10-03 01:00:00+00:00    1\n",
      "                            ..\n",
      "2019-10-03 22:45:00+00:00    1\n",
      "2019-10-03 23:00:00+00:00    1\n",
      "2019-10-03 23:15:00+00:00    1\n",
      "2019-10-03 23:30:00+00:00    1\n",
      "2019-10-03 23:45:00+00:00    1\n",
      "Name: holiday_flag, Length: 96, dtype: int64\n",
      "utc_timestamp\n",
      "2019-10-02 00:00:00+00:00    0\n",
      "2019-10-02 00:15:00+00:00    0\n",
      "2019-10-02 00:30:00+00:00    0\n",
      "2019-10-02 00:45:00+00:00    0\n",
      "2019-10-02 01:00:00+00:00    0\n",
      "                            ..\n",
      "2019-10-02 22:45:00+00:00    0\n",
      "2019-10-02 23:00:00+00:00    0\n",
      "2019-10-02 23:15:00+00:00    0\n",
      "2019-10-02 23:30:00+00:00    0\n",
      "2019-10-02 23:45:00+00:00    0\n",
      "Name: holiday_flag, Length: 96, dtype: int64\n"
     ]
    }
   ],
   "source": [
    "# check edge case: 2019-10-03 (Tag der Deutschen Einheit)\n",
    "print(df.loc[\"2019-10-03\", \"holiday_flag\"])\n",
    "print(df.loc[\"2019-10-02\", \"holiday_flag\"])"
   ]
  },
  {
   "cell_type": "code",
   "execution_count": 31,
   "metadata": {},
   "outputs": [],
   "source": [
    "df.to_csv('../data/processed/merged_dataset_featurized.csv', sep = \";\")"
   ]
  }
 ],
 "metadata": {
  "kernelspec": {
   "display_name": "tft_model_env",
   "language": "python",
   "name": "python3"
  },
  "language_info": {
   "codemirror_mode": {
    "name": "ipython",
    "version": 3
   },
   "file_extension": ".py",
   "mimetype": "text/x-python",
   "name": "python",
   "nbconvert_exporter": "python",
   "pygments_lexer": "ipython3",
   "version": "3.10.16"
  }
 },
 "nbformat": 4,
 "nbformat_minor": 2
}
