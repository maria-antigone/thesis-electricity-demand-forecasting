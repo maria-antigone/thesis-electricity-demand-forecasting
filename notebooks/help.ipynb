{
 "cells": [
  {
   "cell_type": "code",
   "execution_count": 1,
   "metadata": {},
   "outputs": [],
   "source": [
    "import pandas as pd"
   ]
  },
  {
   "cell_type": "code",
   "execution_count": 4,
   "metadata": {},
   "outputs": [
    {
     "name": "stdout",
     "output_type": "stream",
     "text": [
      "Index(['utc_timestamp', 'actual_load', 'solar_capacity', 'solar_generation',\n",
      "       'wind_capacity', 'wind_generation', 'wind_offshore_capacity',\n",
      "       'wind_offshore_generation', 'wind_onshore_capacity',\n",
      "       'wind_onshore_generation', 'temperature', 'hour', 'is_daylight',\n",
      "       'month', 'year', 'weekday', 'weekend_flag', 'holiday_flag'],\n",
      "      dtype='object')\n"
     ]
    }
   ],
   "source": [
    "df = pd.read_csv(\"../data/processed/merged_dataset_featurized.csv\", sep = \";\")\n",
    "print(df.columns)"
   ]
  }
 ],
 "metadata": {
  "kernelspec": {
   "display_name": "tft_model_env",
   "language": "python",
   "name": "python3"
  },
  "language_info": {
   "codemirror_mode": {
    "name": "ipython",
    "version": 3
   },
   "file_extension": ".py",
   "mimetype": "text/x-python",
   "name": "python",
   "nbconvert_exporter": "python",
   "pygments_lexer": "ipython3",
   "version": "3.10.16"
  }
 },
 "nbformat": 4,
 "nbformat_minor": 2
}
